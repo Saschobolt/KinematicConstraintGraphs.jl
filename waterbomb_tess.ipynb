{
 "cells": [
  {
   "cell_type": "code",
   "execution_count": 1,
   "metadata": {},
   "outputs": [],
   "source": [
    "using GraphMakie\n",
    "using GraphMakie.NetworkLayout\n",
    "import GLMakie\n",
    "using Graphs\n",
    "\n",
    "GLMakie.activate!()"
   ]
  },
  {
   "cell_type": "code",
   "execution_count": 2,
   "metadata": {},
   "outputs": [],
   "source": [
    "using KinematicConstraintGraphs"
   ]
  },
  {
   "cell_type": "code",
   "execution_count": null,
   "metadata": {},
   "outputs": [],
   "source": [
    "# example constraint graph from Thomas 1991\n",
    "l1 = Line(Point(0,0,0.), Point(1,0,0))\n",
    "l2 = Line(Point(0,0,0.), Point(0,1,0))\n",
    "l3 = Line(Point(0,0,0.), Point(0,0,1.))\n",
    "T_l1 = PrismaticGroup(l1)\n",
    "T_l2 = PrismaticGroup(l2)\n",
    "T_l3 = PrismaticGroup(l3)\n",
    "C_l2 = CylinderGroup(l2)\n",
    "\n",
    "# create a constraint graph\n",
    "g = ConstraintGraph()\n",
    "for _ in 1:4\n",
    "    KinematicConstraintGraphs.add_vertex!(g)\n",
    "end\n",
    "\n",
    "add_constraint!(g, 1, 2, T_l1)\n",
    "add_constraint!(g, 1, 3, T_l1)\n",
    "add_constraint!(g, 1, 4, C_l2)\n",
    "add_constraint!(g, 2, 4, C_l2)\n",
    "add_constraint!(g, 3, 4, C_l2)\n",
    "add_constraint!(g, 2, 3, T_l3)\n",
    "\n",
    "filter_constraints!(g)\n",
    "\n",
    "f, ax, p = graphplot(g)\n",
    "f"
   ]
  },
  {
   "cell_type": "code",
   "execution_count": 4,
   "metadata": {},
   "outputs": [
    {
     "ename": "UndefVarError",
     "evalue": "UndefVarError: `all_equiv_constraints!` not defined",
     "output_type": "error",
     "traceback": [
      "UndefVarError: `all_equiv_constraints!` not defined\n",
      "\n",
      "Stacktrace:\n",
      " [1] top-level scope\n",
      "   @ c:\\Users\\sasch\\Documents\\Code-Projects\\KinematicConstraintGraphs.jl\\jl_notebook_cell_df34fa98e69747e1a8f8a730347b8e2f_W3sZmlsZQ==.jl:1"
     ]
    }
   ],
   "source": [
    "all_equiv_constraints!(g)"
   ]
  },
  {
   "cell_type": "code",
   "execution_count": null,
   "metadata": {},
   "outputs": [],
   "source": []
  }
 ],
 "metadata": {
  "kernelspec": {
   "display_name": "Julia 1.10.4",
   "language": "julia",
   "name": "julia-1.10"
  },
  "language_info": {
   "file_extension": ".jl",
   "mimetype": "application/julia",
   "name": "julia",
   "version": "1.10.4"
  }
 },
 "nbformat": 4,
 "nbformat_minor": 2
}
